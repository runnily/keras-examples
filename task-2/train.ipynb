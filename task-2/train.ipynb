{
  "cells": [
    {
      "cell_type": "code",
      "source": [
        "from tensorflow.keras.preprocessing.image import ImageDataGenerator\n",
        "import matplotlib.pyplot as plt\n",
        "from tensorflow import keras\n",
        "from tensorflow.keras.layers import Dense\n",
        "from tensorflow.keras.layers import Flatten\n",
        "from tensorflow.keras.models import Sequential \n",
        "from tensorflow.keras.optimizers import Adam \n",
        "from tensorflow.keras.layers import Dropout \n",
        "from tensorflow.keras.applications import VGG16\n",
        "from tensorflow.keras.applications import MobileNetV2\n",
        "from tensorflow.keras.layers import GlobalAveragePooling2D\n",
        "from numpy.random import seed\n",
        "import numpy as np\n",
        "seed(42)"
      ],
      "outputs": [],
      "execution_count": 27,
      "metadata": {
        "gather": {
          "logged": 1645390229453
        }
      }
    },
    {
      "cell_type": "markdown",
      "source": [
        "# Bird classfication\n",
        "This model is going to be used to distinguish between different bird species. The data being used contains 250 different species of birds. The aim here is to build a model which classifies these images correctly."
      ],
      "metadata": {
        "nteract": {
          "transient": {
            "deleting": false
          }
        }
      }
    },
    {
      "cell_type": "markdown",
      "source": [
        "## Preprocessing data \n",
        "To gather the data files Keras image generator is going to be used. The current data structure is designed in a way where there are 250 subdirectories for each species of a bird. The image generator gathers batches from different subdirectories in the test folder and train folder together with their corresponding labels. In this case, they are 250 different labels."
      ],
      "metadata": {
        "nteract": {
          "transient": {
            "deleting": false
          }
        }
      }
    },
    {
      "cell_type": "code",
      "source": [
        "# This will rescale pixels to 0-1, makes neural network\n",
        "# proces faster\n",
        "img_data_gen = ImageDataGenerator(rescale=1/255)"
      ],
      "outputs": [],
      "execution_count": 2,
      "metadata": {
        "jupyter": {
          "source_hidden": false,
          "outputs_hidden": false
        },
        "nteract": {
          "transient": {
            "deleting": false
          }
        },
        "gather": {
          "logged": 1645385351216
        }
      }
    },
    {
      "cell_type": "markdown",
      "source": [
        "** Do not run command below **"
      ],
      "metadata": {
        "nteract": {
          "transient": {
            "deleting": false
          }
        }
      }
    },
    {
      "cell_type": "code",
      "source": [
        "%cd ~/localfiles/ # Do not run this comman only relevant for the current enviroment"
      ],
      "outputs": [
        {
          "output_type": "stream",
          "name": "stdout",
          "text": "/home/azureuser/localfiles\n"
        }
      ],
      "execution_count": 3,
      "metadata": {
        "jupyter": {
          "source_hidden": false,
          "outputs_hidden": false
        },
        "nteract": {
          "transient": {
            "deleting": false
          }
        }
      }
    },
    {
      "cell_type": "code",
      "source": [
        "def get_data(img_data_gen = img_data_gen):\n",
        "    \"\"\"\n",
        "        This would return the train, test\n",
        "        and validation data. This is done by using \n",
        "        the \"flow from directoy\" function. This function\n",
        "        yields batches of images from\n",
        "        the subdirectories class_a and class_b, \n",
        "        together with labels 0 and 1 (0 corresponding \n",
        "        to class_a and 1 corresponding to class_b).\n",
        "    \"\"\"\n",
        "    train_data = img_data_gen.flow_from_directory(\n",
        "        directory=\"birds/train\",\n",
        "        target_size=(224,224),\n",
        "        color_mode=\"rgb\",\n",
        "        class_mode=\"categorical\",\n",
        "        batch_size=32\n",
        "    )\n",
        "\n",
        "    test_data = img_data_gen.flow_from_directory(\n",
        "        directory=\"birds/test\",\n",
        "        target_size=(224,224),\n",
        "        color_mode=\"rgb\",\n",
        "        class_mode=\"categorical\",\n",
        "        batch_size=32,\n",
        "        shuffle=False,\n",
        "    )\n",
        "\n",
        "    valid_data = img_data_gen.flow_from_directory(\n",
        "        directory=\"birds/valid\",\n",
        "        target_size=(224,224),\n",
        "        color_mode=\"rgb\",\n",
        "        class_mode=\"categorical\",\n",
        "        batch_size=32\n",
        "    )\n",
        "\n",
        "    return train_data, test_data, valid_data\n"
      ],
      "outputs": [],
      "execution_count": 70,
      "metadata": {
        "jupyter": {
          "source_hidden": false,
          "outputs_hidden": false
        },
        "nteract": {
          "transient": {
            "deleting": false
          }
        },
        "gather": {
          "logged": 1645392700586
        }
      }
    },
    {
      "cell_type": "code",
      "source": [
        "train_data, test_data, valid_data = get_data()"
      ],
      "outputs": [
        {
          "output_type": "stream",
          "name": "stdout",
          "text": "Found 35215 images belonging to 250 classes.\nFound 1250 images belonging to 250 classes.\nFound 1250 images belonging to 250 classes.\n"
        }
      ],
      "execution_count": 71,
      "metadata": {
        "jupyter": {
          "source_hidden": false,
          "outputs_hidden": false
        },
        "nteract": {
          "transient": {
            "deleting": false
          }
        },
        "gather": {
          "logged": 1645392707155
        }
      }
    },
    {
      "cell_type": "markdown",
      "source": [
        "## Whats in the data\n",
        "Below is just an example of what there is within the data"
      ],
      "metadata": {
        "nteract": {
          "transient": {
            "deleting": false
          }
        }
      }
    },
    {
      "cell_type": "code",
      "source": [
        "## This architecture is going to be loosley based on VGG.\n",
        "## This is going to recieve a 32x32 images\n",
        "## Block of code to explore the dataset\n",
        "\"\"\"\n",
        "A DirectoryIterator yields tuples of (x, y) \n",
        "where x is a numpy array containing a \n",
        "batch of images with shape (batch_size, *target_size, channels) \n",
        "and y is a numpy array of corresponding labels.\n",
        "\"\"\"\n",
        "for batches in train_data:\n",
        "    batch = batches[0]\n",
        "    for img in batch:\n",
        "        plt.imshow(img)\n",
        "        break\n",
        "    break"
      ],
      "outputs": [
        {
          "output_type": "display_data",
          "data": {
            "text/plain": "<Figure size 432x288 with 1 Axes>",
            "image/png": "[encoded data removed]"
          },
          "metadata": {
            "needs_background": "light"
          }
        }
      ],
      "execution_count": 6,
      "metadata": {
        "jupyter": {
          "source_hidden": false,
          "outputs_hidden": false
        },
        "nteract": {
          "transient": {
            "deleting": false
          }
        },
        "gather": {
          "logged": 1645385353726
        }
      }
    },
    {
      "cell_type": "markdown",
      "source": [
        "## Model\n",
        "We are using a convolutional neural network. This model makes use of the classical architecture \"MobileNetV2\" which has already been trained on the imagenet dataset. These trained weights to aid with the convolutional neural network model."
      ],
      "metadata": {
        "nteract": {
          "transient": {
            "deleting": false
          }
        }
      }
    },
    {
      "cell_type": "code",
      "source": [
        "def build_model():\n",
        "    base = MobileNetV2(include_top=False, weights=\"imagenet\", input_shape=(224, 224, 3))\n",
        "    base.trainable = False\n",
        "    model = Sequential([\n",
        "        base,\n",
        "        GlobalAveragePooling2D(),\n",
        "        Dropout(0.2),\n",
        "        Dense(250, activation=\"softmax\")\n",
        "        #Flatten(),\n",
        "        #Dense(2048, activation=\"relu\", kernel_initializer=\"he_normal\"),\n",
        "        #Dropout(0.35),\n",
        "        #Dense(2048, activation=\"relu\", kernel_initializer=\"he_normal\"),\n",
        "        #Dropout(0.35),\n",
        "        #Dense(250, activation=\"softmax\"),\n",
        "    ])\n",
        "\n",
        "    optim = Adam(1e-4)\n",
        "    model.compile(optimizer=optim, loss=\"categorical_crossentropy\", metrics=[\"accuracy\"])\n",
        "\n",
        "    return model"
      ],
      "outputs": [],
      "execution_count": 7,
      "metadata": {
        "jupyter": {
          "source_hidden": false,
          "outputs_hidden": false
        },
        "nteract": {
          "transient": {
            "deleting": false
          }
        },
        "gather": {
          "logged": 1645385353898
        }
      }
    },
    {
      "cell_type": "code",
      "source": [
        "model = build_model()\n",
        "model.summary()"
      ],
      "outputs": [
        {
          "output_type": "stream",
          "name": "stdout",
          "text": "Model: \"sequential\"\n_________________________________________________________________\n Layer (type)                Output Shape              Param #   \n=================================================================\n mobilenetv2_1.00_224 (Funct  (None, 7, 7, 1280)       2257984   \n ional)                                                          \n                                                                 \n global_average_pooling2d (G  (None, 1280)             0         \n lobalAveragePooling2D)                                          \n                                                                 \n dropout (Dropout)           (None, 1280)              0         \n                                                                 \n dense (Dense)               (None, 250)               320250    \n                                                                 \n=================================================================\nTotal params: 2,578,234\nTrainable params: 320,250\nNon-trainable params: 2,257,984\n_________________________________________________________________\n"
        }
      ],
      "execution_count": 8,
      "metadata": {
        "jupyter": {
          "source_hidden": false,
          "outputs_hidden": false
        },
        "nteract": {
          "transient": {
            "deleting": false
          }
        },
        "gather": {
          "logged": 1645385355809
        }
      }
    },
    {
      "cell_type": "markdown",
      "source": [
        "## Training \n",
        "Summary of the training process"
      ],
      "metadata": {
        "nteract": {
          "transient": {
            "deleting": false
          }
        }
      }
    },
    {
      "cell_type": "code",
      "source": [
        "history = model.fit(train_data, validation_data=valid_data, epochs=20, workers=10, use_multiprocessing=True)"
      ],
      "outputs": [
        {
          "output_type": "stream",
          "name": "stdout",
          "text": "Epoch 1/20\n1101/1101 [==============================] - 86s 74ms/step - loss: 3.8064 - accuracy: 0.2994 - val_loss: 2.3197 - val_accuracy: 0.6688\b\b\b\b\b\b\b\b\b\b\b\b\b\b\b\b\b\b\b\b\b\b\b\b\b\b\b\b\b\b\b\b\b\b\b\b\b\b\b\b\b\b\b\b\b\b\b\b\nEpoch 2/20\n1101/1101 [==============================] - 83s 75ms/step - loss: 1.8918 - accuracy: 0.6793 - val_loss: 1.3069 - val_accuracy: 0.8264\b\b\b\b\b\b\b\b\b\b\b\b\b\b\b\b\b\b\b\b\b\b\b\b\b\b\b\b\b\b\b\b\b\b\b\b\b\b\b\b\b\b\b\b\nEpoch 3/20\n1101/1101 [==============================] - 80s 72ms/step - loss: 1.2505 - accuracy: 0.7805 - val_loss: 0.9007 - val_accuracy: 0.8808\b\b\b\b\b\b\b\b\b\b\b\b\b\b\b\b\b\b\b\b\b\b\b\b\b\b\b\b\b\b\b\b\b\b\b\b\b\b\b\b\b\b\b\b\nEpoch 4/20\n1101/1101 [==============================] - 83s 75ms/step - loss: 0.9478 - accuracy: 0.8282 - val_loss: 0.6888 - val_accuracy: 0.8944\b\b\b\b\b\b\b\b\b\b\b\b\b\b\b\b\b\b\b\b\b\b\b\b\b\b\b\b\b\b\b\b\b\b\b\b\b\b\b\b\b\b\b\b\nEpoch 5/20\n1101/1101 [==============================] - 81s 73ms/step - loss: 0.7716 - accuracy: 0.8530 - val_loss: 0.5652 - val_accuracy: 0.9112\b\b\b\b\b\b\b\b\b\b\b\b\b\b\b\b\b\b\b\b\b\b\b\b\b\b\b\b\b\b\b\b\b\b\b\b\b\b\b\b\b\b\nEpoch 6/20\n1101/1101 [==============================] - 87s 79ms/step - loss: 0.6529 - accuracy: 0.8752 - val_loss: 0.4820 - val_accuracy: 0.9176\b\b\b\b\b\b\b\b\b\b\b\b\b\b\b\b\b\b\b\b\b\b\b\b\b\b\b\b\b\b\b\b\b\b\b\b\b\b\b\b\b\b\b\b\nEpoch 7/20\n1101/1101 [==============================] - 84s 75ms/step - loss: 0.5653 - accuracy: 0.8896 - val_loss: 0.4233 - val_accuracy: 0.9280\b\b\b\b\b\b\b\b\b\b\b\b\b\b\b\b\b\b\b\b\b\b\b\b\b\b\b\b\b\b\b\b\b\b\b\b\b\b\b\b\b\b\b\b\nEpoch 8/20\n1101/1101 [==============================] - 81s 73ms/step - loss: 0.5024 - accuracy: 0.9005 - val_loss: 0.3812 - val_accuracy: 0.9328\b\b\b\b\b\b\b\b\b\b\b\b\b\b\b\b\b\b\b\b\b\b\b\b\b\b\b\b\b\b\b\b\b\b\b\b\b\b\b\b\b\b\b\b\nEpoch 9/20\n1101/1101 [==============================] - 82s 74ms/step - loss: 0.4502 - accuracy: 0.9128 - val_loss: 0.3475 - val_accuracy: 0.9336\b\b\b\b\b\b\b\b\b\b\b\b\b\b\b\b\b\b\b\b\b\b\b\b\b\b\b\b\b\b\b\b\b\b\b\b\b\b\b\b\b\b\b\b\nEpoch 10/20\n1101/1101 [==============================] - 80s 72ms/step - loss: 0.4092 - accuracy: 0.9190 - val_loss: 0.3238 - val_accuracy: 0.9336\b\b\b\b\b\b\b\b\b\b\b\b\b\b\b\b\b\b\b\b\b\b\b\b\b\b\b\b\b\b\b\b\b\b\b\b\b\b\b\b\b\b\b\b\n\b\b\b\b\b\b\b\b\b\b\b\b\b\b\b\b\b\b\b\b\b\b\b\b\b\b\b\b\b\b\b\b\b\b\b\b\b\b\b\b\b\b\b\b\b\b\b\b\b\b\b\b\b\b\b\b\b\b\b\b\b\b\b\b\b\b\b\b\b\b\b\b\b\b\b\b\b\b\b\b\b\b\b\b\b\bEpoch 11/20\n1101/1101 [==============================] - 80s 73ms/step - loss: 0.3725 - accuracy: 0.9262 - val_loss: 0.3019 - val_accuracy: 0.9456\b\b\b\b\b\b\b\b\b\b\b\b\b\b\b\b\b\b\b\b\b\b\b\b\b\b\b\b\b\b\b\b\b\b\b\b\b\b\b\b\b\b\b\b\nEpoch 12/20\n1101/1101 [==============================] - 83s 75ms/step - loss: 0.3411 - accuracy: 0.9336 - val_loss: 0.2838 - val_accuracy: 0.9448\b\b\b\b\b\b\b\b\b\b\b\b\b\b\b\b\b\b\b\b\b\b\b\b\b\b\b\b\b\b\b\b\b\b\b\b\b\b\b\b\b\b\b\b\nEpoch 13/20\n1101/1101 [==============================] - 83s 75ms/step - loss: 0.3179 - accuracy: 0.9381 - val_loss: 0.2696 - val_accuracy: 0.9448\b\b\b\b\b\b\b\b\b\b\b\b\b\b\b\b\b\b\b\b\b\b\b\b\b\b\b\b\b\b\b\b\b\b\b\b\b\b\b\b\b\b\b\b\nEpoch 14/20\n1101/1101 [==============================] - 83s 75ms/step - loss: 0.2932 - accuracy: 0.9425 - val_loss: 0.2576 - val_accuracy: 0.9472\b\b\b\b\b\b\b\b\b\b\b\b\b\b\b\b\b\b\b\b\b\b\b\b\b\b\b\b\b\b\b\b\b\b\b\b\b\b\b\b\b\b\b\b\nEpoch 15/20\n1101/1101 [==============================] - 83s 75ms/step - loss: 0.2743 - accuracy: 0.9473 - val_loss: 0.2429 - val_accuracy: 0.9488\b\b\b\b\b\b\b\b\b\b\b\b\b\b\b\b\b\b\b\b\b\b\b\b\b\b\b\b\b\b\b\b\b\b\b\b\b\b\b\b\b\b\nEpoch 16/20\n1101/1101 [==============================] - 83s 75ms/step - loss: 0.2556 - accuracy: 0.9502 - val_loss: 0.2373 - val_accuracy: 0.9528\b\b\b\b\b\b\b\b\b\b\b\b\b\b\b\b\b\b\b\b\b\b\b\b\b\b\b\b\b\b\b\b\b\b\b\b\b\b\b\b\b\b\b\b\nEpoch 17/20\n1101/1101 [==============================] - 83s 75ms/step - loss: 0.2377 - accuracy: 0.9561 - val_loss: 0.2321 - val_accuracy: 0.9504\b\b\b\b\b\b\b\b\b\b\b\b\b\b\b\b\b\b\b\b\b\b\b\b\b\b\b\b\b\b\b\b\b\b\b\b\b\b\b\b\b\b\b\b\nEpoch 18/20\n1101/1101 [==============================] - 83s 75ms/step - loss: 0.2253 - accuracy: 0.9585 - val_loss: 0.2264 - val_accuracy: 0.9496\b\b\b\b\b\b\b\b\b\b\b\b\b\b\b\b\b\b\b\b\b\b\b\b\b\b\b\b\b\b\b\b\b\b\b\b\b\b\b\b\b\b\b\b\nEpoch 19/20\n1101/1101 [==============================] - 80s 72ms/step - loss: 0.2111 - accuracy: 0.9615 - val_loss: 0.2159 - val_accuracy: 0.9544\b\b\b\b\b\b\b\b\b\b\b\b\b\b\b\b\b\b\b\b\b\b\b\b\b\b\b\b\b\b\b\b\b\b\b\b\b\b\b\b\b\b\b\b\nEpoch 20/20\n1101/1101 [==============================] - 83s 75ms/step - loss: 0.1992 - accuracy: 0.9643 - val_loss: 0.2096 - val_accuracy: 0.9568\b\b\b\b\b\b\b\b\b\b\b\b\b\b\b\b\b\b\b\b\b\b\b\b\b\b\b\b\b\b\b\b\b\b\b\b\b\b\b\b\b\b\b\b\n"
        }
      ],
      "execution_count": 9,
      "metadata": {
        "jupyter": {
          "source_hidden": false,
          "outputs_hidden": false
        },
        "nteract": {
          "transient": {
            "deleting": false
          }
        },
        "gather": {
          "logged": 1645387008368
        }
      }
    },
    {
      "cell_type": "code",
      "source": [
        "%cd ~/cloudfiles/code/users/b8025187/assignment/task-2/ # do not run this"
      ],
      "outputs": [
        {
          "output_type": "stream",
          "name": "stdout",
          "text": "/mnt/batch/tasks/shared/LS_root/mounts/clusters/compute-csc8637-b8025187/code/users/b8025187/assignment/task-2\n"
        }
      ],
      "execution_count": 10,
      "metadata": {
        "jupyter": {
          "source_hidden": false,
          "outputs_hidden": false
        },
        "nteract": {
          "transient": {
            "deleting": false
          }
        },
        "gather": {
          "logged": 1645380504897
        }
      }
    },
    {
      "cell_type": "code",
      "source": [
        "model.save(\"h5-model-2.h5\")"
      ],
      "outputs": [
        {
          "output_type": "stream",
          "name": "stderr",
          "text": "WARNING:absl:Function `_wrapped_model` contains input name(s) mobilenetv2_1.00_224_input with unsupported characters which will be renamed to mobilenetv2_1_00_224_input in the SavedModel.\nINFO:tensorflow:Assets written to: model-2/assets\n/anaconda/envs/azureml_py38_PT_TF/lib/python3.8/site-packages/keras/engine/functional.py:1410: CustomMaskWarning: Custom mask layers require a config and must override get_config. When loading, the custom mask layer must be passed to the custom_objects argument.\n  layer_config = serialize_layer_fn(layer)\n/anaconda/envs/azureml_py38_PT_TF/lib/python3.8/site-packages/keras/saving/saved_model/layer_serialization.py:112: CustomMaskWarning: Custom mask layers require a config and must override get_config. When loading, the custom mask layer must be passed to the custom_objects argument.\n  return generic_utils.serialize_keras_object(obj)\n"
        },
        {
          "output_type": "stream",
          "name": "stdout",
          "text": "INFO:tensorflow:Assets written to: model-2/assets\n"
        }
      ],
      "execution_count": 79,
      "metadata": {
        "jupyter": {
          "source_hidden": false,
          "outputs_hidden": false
        },
        "nteract": {
          "transient": {
            "deleting": false
          }
        },
        "gather": {
          "logged": 1645393070165
        }
      }
    },
    {
      "cell_type": "markdown",
      "source": [
        "**The model produces an accuracy of 95%**"
      ],
      "metadata": {
        "nteract": {
          "transient": {
            "deleting": false
          }
        }
      }
    },
    {
      "cell_type": "code",
      "source": [
        "%cd ~/localfiles/\n",
        "model.evaluate(test_data, use_multiprocessing=True,workers=True)"
      ],
      "outputs": [
        {
          "output_type": "stream",
          "name": "stdout",
          "text": "/home/azureuser/localfiles\n40/40 [==============================] - 3s 77ms/step - loss: 0.1939 - accuracy: 0.9544\b\b\b\b\b\b\b\b\b\b\b\b\b\b\b\b\b\b\b\b\b\b\b\b\b\b\b\b\b\b\b\b\b\b\b\b\b\b\b\b\b\b\b\b\b\b\b\b\b\b\b\b\b\b\b\b\b\b\b\b\b\b\b\b\b\b\b\b\b\b\b\b\b\b\b\b\b\b\b\n"
        },
        {
          "output_type": "execute_result",
          "execution_count": 72,
          "data": {
            "text/plain": "[0.19388072192668915, 0.9544000029563904]"
          },
          "metadata": {}
        }
      ],
      "execution_count": 72,
      "metadata": {
        "jupyter": {
          "source_hidden": false,
          "outputs_hidden": false
        },
        "nteract": {
          "transient": {
            "deleting": false
          }
        },
        "gather": {
          "logged": 1645392718324
        }
      }
    },
    {
      "cell_type": "markdown",
      "source": [
        "## Accuracy and Loss"
      ],
      "metadata": {
        "nteract": {
          "transient": {
            "deleting": false
          }
        }
      }
    },
    {
      "cell_type": "markdown",
      "source": [
        "- ### Ploting the train and validation loss\n",
        "\n",
        "The training loss and validation both go down smoothly. There appears to be no overfitting"
      ],
      "metadata": {
        "nteract": {
          "transient": {
            "deleting": false
          }
        }
      }
    },
    {
      "cell_type": "code",
      "source": [
        "plt.plot(history.history[\"loss\"], label=\"Training Loss\")\n",
        "plt.plot(history.history[\"val_loss\"], label=\"Validation Loss\")\n",
        "plt.legend()\n"
      ],
      "outputs": [
        {
          "output_type": "execute_result",
          "execution_count": 16,
          "data": {
            "text/plain": "<matplotlib.legend.Legend at 0x7f64d83add30>"
          },
          "metadata": {}
        },
        {
          "output_type": "display_data",
          "data": {
            "text/plain": "<Figure size 432x288 with 1 Axes>",
            "image/png": "[encoded data removed]"
          },
          "metadata": {
            "needs_background": "light"
          }
        }
      ],
      "execution_count": 16,
      "metadata": {
        "jupyter": {
          "source_hidden": false,
          "outputs_hidden": false
        },
        "nteract": {
          "transient": {
            "deleting": false
          }
        },
        "gather": {
          "logged": 1645387547874
        }
      }
    },
    {
      "cell_type": "markdown",
      "source": [
        "- ### Plotting the training accuracy and validation accuracy\n",
        "From the graph shown below, there appears to be no overfitting. The validation accuracy is still increasing while the model is training"
      ],
      "metadata": {
        "nteract": {
          "transient": {
            "deleting": false
          }
        }
      }
    },
    {
      "cell_type": "code",
      "source": [
        "plt.plot(history.history[\"accuracy\"], label=\"Training Loss\")\n",
        "plt.plot(history.history[\"val_accuracy\"], label=\"Validation Loss\")\n",
        "plt.legend()\n"
      ],
      "outputs": [
        {
          "output_type": "execute_result",
          "execution_count": 17,
          "data": {
            "text/plain": "<matplotlib.legend.Legend at 0x7f6423bc3520>"
          },
          "metadata": {}
        },
        {
          "output_type": "display_data",
          "data": {
            "text/plain": "<Figure size 432x288 with 1 Axes>",
            "image/png": "[encoded data removed]"
          },
          "metadata": {
            "needs_background": "light"
          }
        }
      ],
      "execution_count": 17,
      "metadata": {
        "jupyter": {
          "source_hidden": false,
          "outputs_hidden": false
        },
        "nteract": {
          "transient": {
            "deleting": false
          }
        },
        "gather": {
          "logged": 1645387603597
        }
      }
    }
  ],
  "metadata": {
    "kernelspec": {
      "name": "azureml_py38_pt_tf",
      "language": "python",
      "display_name": "Python 3.8 - Pytorch and Tensorflow"
    },
    "language_info": {
      "name": "python",
      "version": "3.8.1",
      "mimetype": "text/x-python",
      "codemirror_mode": {
        "name": "ipython",
        "version": 3
      },
      "pygments_lexer": "ipython3",
      "nbconvert_exporter": "python",
      "file_extension": ".py"
    },
    "nteract": {
      "version": "nteract-front-end@1.0.0"
    },
    "microsoft": {
      "host": {
        "AzureML": {
          "notebookHasBeenCompleted": true
        }
      }
    },
    "kernel_info": {
      "name": "azureml_py38_pt_tf"
    }
  },
  "nbformat": 4,
  "nbformat_minor": 2
}